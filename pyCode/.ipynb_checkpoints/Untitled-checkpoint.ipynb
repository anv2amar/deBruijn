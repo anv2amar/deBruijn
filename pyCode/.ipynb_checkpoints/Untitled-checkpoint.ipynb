{
 "cells": [
  {
   "cell_type": "code",
   "execution_count": 2,
   "metadata": {},
   "outputs": [],
   "source": [
    "def debruinize(s, k):\n",
    "    nodes = set()\n",
    "    edges = []\n",
    "    for i in range(len(s)-k+1):\n",
    "#         kmer = s[i:i+k]\n",
    "        nodes.add(s[i:i+k-1])\n",
    "        nodes.add(s[i+1:i+k])\n",
    "        edges.append((s[i:i+k-1], s[i+1:i+k]))\n",
    "    return nodes, edges"
   ]
  },
  {
   "cell_type": "code",
   "execution_count": 3,
   "metadata": {
    "collapsed": true
   },
   "outputs": [],
   "source": [
    "nodes, edges = debruinize(\"ACCGTGA\", 3)"
   ]
  },
  {
   "cell_type": "code",
   "execution_count": 4,
   "metadata": {},
   "outputs": [
    {
     "name": "stdout",
     "output_type": "stream",
     "text": [
      "{'CC', 'CG', 'GA', 'TG', 'GT', 'AC'} [('AC', 'CC'), ('CC', 'CG'), ('CG', 'GT'), ('GT', 'TG'), ('TG', 'GA')]\n"
     ]
    }
   ],
   "source": [
    "print(nodes, edges)"
   ]
  },
  {
   "cell_type": "code",
   "execution_count": null,
   "metadata": {
    "collapsed": true
   },
   "outputs": [],
   "source": [
    "def visualize(s, k):\n",
    "    nodes, edges = debruinize(s, k)\n",
    "    dot_str = 'digraph \"DeBruijn graph\" {\\n'\n",
    "    for node in nodes:\n",
    "        dot_str += '   %s [label=\"%s\"] ;\\n' % (node, node)\n",
    "    for src, dest in edges:\n",
    "        dot_str += '   %s -> %s ;\\n' % (src, dest)\n",
    "    return dot_str + '}\\n'"
   ]
  }
 ],
 "metadata": {
  "kernelspec": {
   "display_name": "Python 3",
   "language": "python",
   "name": "python3"
  },
  "language_info": {
   "codemirror_mode": {
    "name": "ipython",
    "version": 3
   },
   "file_extension": ".py",
   "mimetype": "text/x-python",
   "name": "python",
   "nbconvert_exporter": "python",
   "pygments_lexer": "ipython3",
   "version": "3.6.2"
  }
 },
 "nbformat": 4,
 "nbformat_minor": 2
}
